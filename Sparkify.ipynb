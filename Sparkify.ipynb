{
 "cells": [
  {
   "cell_type": "markdown",
   "metadata": {},
   "source": [
    "# Sparkify Churn Prediction"
   ]
  },
  {
   "cell_type": "code",
   "execution_count": 1,
   "metadata": {},
   "outputs": [],
   "source": [
    "import findspark\n",
    "findspark.init()\n",
    "\n",
    "import numpy as np\n",
    "import matplotlib.pyplot as plt\n",
    "import seaborn as sns\n",
    "\n",
    "from pyspark.sql import SparkSession\n",
    "from pyspark.sql import functions as F\n",
    "from pyspark.sql.window import Window\n",
    "\n",
    "from pyspark.ml import Pipeline\n",
    "from pyspark.ml.classification import LogisticRegression, GBTClassifier, NaiveBayes\n",
    "from pyspark.ml.evaluation import MulticlassClassificationEvaluator\n",
    "from pyspark.ml.feature import VectorAssembler, StandardScaler\n",
    "from pyspark.ml.tuning import ParamGridBuilder, CrossValidator"
   ]
  },
  {
   "cell_type": "code",
   "execution_count": 2,
   "metadata": {},
   "outputs": [
    {
     "name": "stderr",
     "output_type": "stream",
     "text": [
      "22/09/17 12:40:37 WARN Utils: Your hostname, iusztin-MS-7C91 resolves to a loopback address: 127.0.1.1; using 192.168.0.170 instead (on interface enp42s0)\n",
      "22/09/17 12:40:37 WARN Utils: Set SPARK_LOCAL_IP if you need to bind to another address\n",
      "WARNING: An illegal reflective access operation has occurred\n",
      "WARNING: Illegal reflective access by org.apache.spark.unsafe.Platform (file:/opt/spark/jars/spark-unsafe_2.12-3.2.1.jar) to constructor java.nio.DirectByteBuffer(long,int)\n",
      "WARNING: Please consider reporting this to the maintainers of org.apache.spark.unsafe.Platform\n",
      "WARNING: Use --illegal-access=warn to enable warnings of further illegal reflective access operations\n",
      "WARNING: All illegal access operations will be denied in a future release\n",
      "Using Spark's default log4j profile: org/apache/spark/log4j-defaults.properties\n",
      "Setting default log level to \"WARN\".\n",
      "To adjust logging level use sc.setLogLevel(newLevel). For SparkR, use setLogLevel(newLevel).\n",
      "22/09/17 12:40:38 WARN NativeCodeLoader: Unable to load native-hadoop library for your platform... using builtin-java classes where applicable\n"
     ]
    }
   ],
   "source": [
    "spark = SparkSession.\\\n",
    "    builder.\\\n",
    "    appName(\"Sparkify Churn Prediction\").\\\n",
    "    getOrCreate()"
   ]
  },
  {
   "cell_type": "markdown",
   "metadata": {},
   "source": [
    "# Load and Clean Dataset"
   ]
  },
  {
   "cell_type": "code",
   "execution_count": 3,
   "metadata": {},
   "outputs": [
    {
     "name": "stderr",
     "output_type": "stream",
     "text": [
      "[Stage 0:>                                                        (0 + 12) / 12]\r"
     ]
    },
    {
     "name": "stdout",
     "output_type": "stream",
     "text": [
      "root\n",
      " |-- artist: string (nullable = true)\n",
      " |-- auth: string (nullable = true)\n",
      " |-- firstName: string (nullable = true)\n",
      " |-- gender: string (nullable = true)\n",
      " |-- itemInSession: long (nullable = true)\n",
      " |-- lastName: string (nullable = true)\n",
      " |-- length: double (nullable = true)\n",
      " |-- level: string (nullable = true)\n",
      " |-- location: string (nullable = true)\n",
      " |-- method: string (nullable = true)\n",
      " |-- page: string (nullable = true)\n",
      " |-- registration: long (nullable = true)\n",
      " |-- sessionId: long (nullable = true)\n",
      " |-- song: string (nullable = true)\n",
      " |-- status: long (nullable = true)\n",
      " |-- ts: long (nullable = true)\n",
      " |-- userAgent: string (nullable = true)\n",
      " |-- userId: string (nullable = true)\n",
      "\n"
     ]
    },
    {
     "name": "stderr",
     "output_type": "stream",
     "text": [
      "                                                                                \r"
     ]
    }
   ],
   "source": [
    "EVENT_DATA_LINK = \"mini_sparkify_event_data.json\"\n",
    "df = spark.read.json(EVENT_DATA_LINK)\n",
    "df.persist()\n",
    "\n",
    "df.printSchema()"
   ]
  },
  {
   "cell_type": "markdown",
   "source": [
    "We can observe that all the columns are `strings`."
   ],
   "metadata": {
    "collapsed": false
   }
  },
  {
   "cell_type": "code",
   "execution_count": 4,
   "outputs": [
    {
     "name": "stdout",
     "output_type": "stream",
     "text": [
      "+--------------------+---------+---------+------+-------------+--------+---------+-----+--------------------+------+---------------+-------------+---------+--------------------+------+-------------+--------------------+------+\n",
      "|              artist|     auth|firstName|gender|itemInSession|lastName|   length|level|            location|method|           page| registration|sessionId|                song|status|           ts|           userAgent|userId|\n",
      "+--------------------+---------+---------+------+-------------+--------+---------+-----+--------------------+------+---------------+-------------+---------+--------------------+------+-------------+--------------------+------+\n",
      "|      Martha Tilston|Logged In|    Colin|     M|           50| Freeman|277.89016| paid|     Bakersfield, CA|   PUT|       NextSong|1538173362000|       29|           Rockpools|   200|1538352117000|Mozilla/5.0 (Wind...|    30|\n",
      "|    Five Iron Frenzy|Logged In|    Micah|     M|           79|    Long|236.09424| free|Boston-Cambridge-...|   PUT|       NextSong|1538331630000|        8|              Canada|   200|1538352180000|\"Mozilla/5.0 (Win...|     9|\n",
      "|        Adam Lambert|Logged In|    Colin|     M|           51| Freeman| 282.8273| paid|     Bakersfield, CA|   PUT|       NextSong|1538173362000|       29|   Time For Miracles|   200|1538352394000|Mozilla/5.0 (Wind...|    30|\n",
      "|              Enigma|Logged In|    Micah|     M|           80|    Long|262.71302| free|Boston-Cambridge-...|   PUT|       NextSong|1538331630000|        8|Knocking On Forbi...|   200|1538352416000|\"Mozilla/5.0 (Win...|     9|\n",
      "|           Daft Punk|Logged In|    Colin|     M|           52| Freeman|223.60771| paid|     Bakersfield, CA|   PUT|       NextSong|1538173362000|       29|Harder Better Fas...|   200|1538352676000|Mozilla/5.0 (Wind...|    30|\n",
      "|The All-American ...|Logged In|    Micah|     M|           81|    Long|208.29995| free|Boston-Cambridge-...|   PUT|       NextSong|1538331630000|        8|      Don't Leave Me|   200|1538352678000|\"Mozilla/5.0 (Win...|     9|\n",
      "|The Velvet Underg...|Logged In|    Micah|     M|           82|    Long|260.46649| free|Boston-Cambridge-...|   PUT|       NextSong|1538331630000|        8|         Run Run Run|   200|1538352886000|\"Mozilla/5.0 (Win...|     9|\n",
      "|        Starflyer 59|Logged In|    Colin|     M|           53| Freeman|185.44281| paid|     Bakersfield, CA|   PUT|       NextSong|1538173362000|       29|Passengers (Old A...|   200|1538352899000|Mozilla/5.0 (Wind...|    30|\n",
      "|                null|Logged In|    Colin|     M|           54| Freeman|     null| paid|     Bakersfield, CA|   PUT|Add to Playlist|1538173362000|       29|                null|   200|1538352905000|Mozilla/5.0 (Wind...|    30|\n",
      "|            Frumpies|Logged In|    Colin|     M|           55| Freeman|134.47791| paid|     Bakersfield, CA|   PUT|       NextSong|1538173362000|       29|          Fuck Kitty|   200|1538353084000|Mozilla/5.0 (Wind...|    30|\n",
      "+--------------------+---------+---------+------+-------------+--------+---------+-----+--------------------+------+---------------+-------------+---------+--------------------+------+-------------+--------------------+------+\n",
      "only showing top 10 rows\n",
      "\n"
     ]
    }
   ],
   "source": [
    "df.show(n=10)"
   ],
   "metadata": {
    "collapsed": false
   }
  },
  {
   "cell_type": "markdown",
   "source": [
    "## Check for Empty Values"
   ],
   "metadata": {
    "collapsed": false
   }
  },
  {
   "cell_type": "markdown",
   "source": [
    "### Check for NaNs"
   ],
   "metadata": {
    "collapsed": false
   }
  },
  {
   "cell_type": "code",
   "execution_count": 5,
   "outputs": [
    {
     "name": "stderr",
     "output_type": "stream",
     "text": [
      "[Stage 2:==============>                                           (3 + 9) / 12]\r"
     ]
    },
    {
     "name": "stdout",
     "output_type": "stream",
     "text": [
      "+------+----+---------+------+-------------+--------+------+-----+--------+------+----+------------+---------+----+------+---+---------+------+\n",
      "|artist|auth|firstName|gender|itemInSession|lastName|length|level|location|method|page|registration|sessionId|song|status| ts|userAgent|userId|\n",
      "+------+----+---------+------+-------------+--------+------+-----+--------+------+----+------------+---------+----+------+---+---------+------+\n",
      "|     0|   0|        0|     0|            0|       0|     0|    0|       0|     0|   0|           0|        0|   0|     0|  0|        0|     0|\n",
      "+------+----+---------+------+-------------+--------+------+-----+--------+------+----+------------+---------+----+------+---+---------+------+\n",
      "\n"
     ]
    },
    {
     "name": "stderr",
     "output_type": "stream",
     "text": [
      "                                                                                \r"
     ]
    }
   ],
   "source": [
    "df.select([F.count(F.when(F.isnan(c), c)).alias(c) for c in df.columns]).show()"
   ],
   "metadata": {
    "collapsed": false
   }
  },
  {
   "cell_type": "markdown",
   "source": [
    "There are no `nans` within the data."
   ],
   "metadata": {
    "collapsed": false
   }
  },
  {
   "cell_type": "markdown",
   "source": [
    "### Check for Nones"
   ],
   "metadata": {
    "collapsed": false
   }
  },
  {
   "cell_type": "code",
   "execution_count": 6,
   "outputs": [
    {
     "name": "stdout",
     "output_type": "stream",
     "text": [
      "+------+----+---------+------+-------------+--------+------+-----+--------+------+----+------------+---------+-----+------+---+---------+------+\n",
      "|artist|auth|firstName|gender|itemInSession|lastName|length|level|location|method|page|registration|sessionId| song|status| ts|userAgent|userId|\n",
      "+------+----+---------+------+-------------+--------+------+-----+--------+------+----+------------+---------+-----+------+---+---------+------+\n",
      "| 58392|   0|     8346|  8346|            0|    8346| 58392|    0|    8346|     0|   0|        8346|        0|58392|     0|  0|     8346|     0|\n",
      "+------+----+---------+------+-------------+--------+------+-----+--------+------+----+------------+---------+-----+------+---+---------+------+\n",
      "\n"
     ]
    }
   ],
   "source": [
    "df.select([F.count(F.when(F.isnull(c), c)).alias(c) for c in df.columns]).show()"
   ],
   "metadata": {
    "collapsed": false
   }
  },
  {
   "cell_type": "markdown",
   "source": [
    "Instead of `nans` the missing entries are filled with `Nones`."
   ],
   "metadata": {
    "collapsed": false
   }
  },
  {
   "cell_type": "markdown",
   "source": [
    "### Check for Empty Strings"
   ],
   "metadata": {
    "collapsed": false
   }
  },
  {
   "cell_type": "code",
   "execution_count": 7,
   "outputs": [
    {
     "name": "stdout",
     "output_type": "stream",
     "text": [
      "+------+----+---------+------+-------------+--------+------+-----+--------+------+----+------------+---------+----+------+---+---------+------+\n",
      "|artist|auth|firstName|gender|itemInSession|lastName|length|level|location|method|page|registration|sessionId|song|status| ts|userAgent|userId|\n",
      "+------+----+---------+------+-------------+--------+------+-----+--------+------+----+------------+---------+----+------+---+---------+------+\n",
      "|     0|   0|        0|     0|            0|       0|     0|    0|       0|     0|   0|           0|        0|   0|     0|  0|        0|  8346|\n",
      "+------+----+---------+------+-------------+--------+------+-----+--------+------+----+------------+---------+----+------+---+---------+------+\n",
      "\n"
     ]
    }
   ],
   "source": [
    "df.select([F.count(F.when(F.col(c) == \"\", c)).alias(c) for c in df.columns]).show()"
   ],
   "metadata": {
    "collapsed": false
   }
  },
  {
   "cell_type": "code",
   "execution_count": 8,
   "outputs": [
    {
     "name": "stdout",
     "output_type": "stream",
     "text": [
      "+------+----+---------+------+-------------+--------+------+-----+--------+------+----+------------+---------+-----+------+---+---------+------+\n",
      "|artist|auth|firstName|gender|itemInSession|lastName|length|level|location|method|page|registration|sessionId| song|status| ts|userAgent|userId|\n",
      "+------+----+---------+------+-------------+--------+------+-----+--------+------+----+------------+---------+-----+------+---+---------+------+\n",
      "| 50046|   0|        0|     0|            0|       0| 50046|    0|       0|     0|   0|           0|        0|50046|     0|  0|        0|     0|\n",
      "+------+----+---------+------+-------------+--------+------+-----+--------+------+----+------------+---------+-----+------+---+---------+------+\n",
      "\n"
     ]
    }
   ],
   "source": [
    "df.filter(F.col(\"userId\") != \"\").select([F.count(F.when(F.isnull(c), c)).alias(c) for c in df.columns]).show()"
   ],
   "metadata": {
    "collapsed": false
   }
  },
  {
   "cell_type": "code",
   "execution_count": 9,
   "outputs": [
    {
     "name": "stdout",
     "output_type": "stream",
     "text": [
      "+---------+------+\n",
      "|     auth| count|\n",
      "+---------+------+\n",
      "|Cancelled|    52|\n",
      "|Logged In|278102|\n",
      "+---------+------+\n",
      "\n"
     ]
    }
   ],
   "source": [
    "df.filter(F.col(\"userId\") != \"\").select(\"auth\").groupby(\"auth\").count().show()"
   ],
   "metadata": {
    "collapsed": false
   }
  },
  {
   "cell_type": "markdown",
   "source": [
    "We can observe that some `users` have the `id` as an `empty string`. The number of open user ids, `8346`, equals the number of None properties, such as: `firstName`, `lastName`, `registration`, `userAgent`. Also, those events have the `auth` state `Cancelled` or `Logged In`. This means that the users who do not have an ID are those who `haven't registered`, yet, into the platform."
   ],
   "metadata": {
    "collapsed": false
   }
  },
  {
   "cell_type": "markdown",
   "source": [
    "When the `artist`, `song`, and `length` columns are `None` the user is staying on pages that do not include listening to music."
   ],
   "metadata": {
    "collapsed": false
   }
  },
  {
   "cell_type": "markdown",
   "source": [
    "## Check for Other Unwanted Symbols"
   ],
   "metadata": {
    "collapsed": false
   }
  },
  {
   "cell_type": "code",
   "execution_count": 10,
   "outputs": [
    {
     "name": "stdout",
     "output_type": "stream",
     "text": [
      "+------+----+---------+------+-------------+--------+------+-----+--------+------+----+------------+---------+----+------+---+---------+------+\n",
      "|artist|auth|firstName|gender|itemInSession|lastName|length|level|location|method|page|registration|sessionId|song|status| ts|userAgent|userId|\n",
      "+------+----+---------+------+-------------+--------+------+-----+--------+------+----+------------+---------+----+------+---+---------+------+\n",
      "|     0|   0|        0|     0|            0|       0|     0|    0|       0|     0|   0|           0|        0|   0|     0|  0|        0|     0|\n",
      "+------+----+---------+------+-------------+--------+------+-----+--------+------+----+------------+---------+----+------+---+---------+------+\n",
      "\n"
     ]
    }
   ],
   "source": [
    "df.select([F.count(F.when(F.col(c) == \"-\", c)).alias(c) for c in df.columns]).show()"
   ],
   "metadata": {
    "collapsed": false
   }
  },
  {
   "cell_type": "code",
   "execution_count": 11,
   "outputs": [
    {
     "name": "stdout",
     "output_type": "stream",
     "text": [
      "+------+----+---------+------+-------------+--------+------+-----+--------+------+----+------------+---------+----+------+---+---------+------+\n",
      "|artist|auth|firstName|gender|itemInSession|lastName|length|level|location|method|page|registration|sessionId|song|status| ts|userAgent|userId|\n",
      "+------+----+---------+------+-------------+--------+------+-----+--------+------+----+------------+---------+----+------+---+---------+------+\n",
      "|     0|   0|        0|     0|            0|       0|     0|    0|       0|     0|   0|           0|        0|   0|     0|  0|        0|     0|\n",
      "+------+----+---------+------+-------------+--------+------+-----+--------+------+----+------------+---------+----+------+---+---------+------+\n",
      "\n"
     ]
    }
   ],
   "source": [
    "df.select([F.count(F.when(F.col(c) == \"NaN\", c)).alias(c) for c in df.columns]).show()"
   ],
   "metadata": {
    "collapsed": false
   }
  },
  {
   "cell_type": "code",
   "execution_count": 12,
   "outputs": [
    {
     "name": "stdout",
     "output_type": "stream",
     "text": [
      "+------+----+---------+------+-------------+--------+------+-----+--------+------+----+------------+---------+----+------+---+---------+------+\n",
      "|artist|auth|firstName|gender|itemInSession|lastName|length|level|location|method|page|registration|sessionId|song|status| ts|userAgent|userId|\n",
      "+------+----+---------+------+-------------+--------+------+-----+--------+------+----+------------+---------+----+------+---+---------+------+\n",
      "|     0|   0|        0|     0|            0|       0|     0|    0|       0|     0|   0|           0|        0|   0|     0|  0|        0|     0|\n",
      "+------+----+---------+------+-------------+--------+------+-----+--------+------+----+------------+---------+----+------+---+---------+------+\n",
      "\n"
     ]
    }
   ],
   "source": [
    "df.select([F.count(F.when(F.col(c) == \"None\", c)).alias(c) for c in df.columns]).show()"
   ],
   "metadata": {
    "collapsed": false
   }
  },
  {
   "cell_type": "code",
   "execution_count": 13,
   "outputs": [
    {
     "name": "stdout",
     "output_type": "stream",
     "text": [
      "+------+------+---------+------+-------------+--------+------+------+--------+------+------+------------+---------+------+------+---+---------+------+\n",
      "|artist|  auth|firstName|gender|itemInSession|lastName|length| level|location|method|  page|registration|sessionId|  song|status| ts|userAgent|userId|\n",
      "+------+------+---------+------+-------------+--------+------+------+--------+------+------+------------+---------+------+------+---+---------+------+\n",
      "|286277|286500|   286500|286500|            0|  286500| 58392|286500|  286500|286500|286500|        8346|        0|286110|     0|  0|   286500|  8346|\n",
      "+------+------+---------+------+-------------+--------+------+------+--------+------+------+------------+---------+------+------+---+---------+------+\n",
      "\n"
     ]
    }
   ],
   "source": [
    "df.select([F.count(F.when(F.col(c).cast(\"int\").isNull(), c)).alias(c) for c in df.columns]).show()"
   ],
   "metadata": {
    "collapsed": false
   }
  },
  {
   "cell_type": "markdown",
   "source": [
    "## Unregistered Users"
   ],
   "metadata": {
    "collapsed": false
   }
  },
  {
   "cell_type": "markdown",
   "source": [
    "### Check Unregistered Users Page Distribution"
   ],
   "metadata": {
    "collapsed": false
   }
  },
  {
   "cell_type": "code",
   "execution_count": 14,
   "outputs": [
    {
     "name": "stdout",
     "output_type": "stream",
     "text": [
      "+-------------------+-----+\n",
      "|               page|count|\n",
      "+-------------------+-----+\n",
      "|               Home| 4375|\n",
      "|              About|  429|\n",
      "|              Login| 3241|\n",
      "|               Help|  272|\n",
      "|              Error|    6|\n",
      "|           Register|   18|\n",
      "|Submit Registration|    5|\n",
      "+-------------------+-----+\n",
      "\n"
     ]
    }
   ],
   "source": [
    "df.filter(F.col(\"userId\") == \"\").select(\"page\").groupby(\"page\").count().show()"
   ],
   "metadata": {
    "collapsed": false
   }
  },
  {
   "cell_type": "markdown",
   "source": [
    "Because there is no valuable activity, for churn prediction, performed by empty users, we can drop them out of the dataframe."
   ],
   "metadata": {
    "collapsed": false
   }
  },
  {
   "cell_type": "markdown",
   "source": [
    "## Drop Unregistered Users"
   ],
   "metadata": {
    "collapsed": false
   }
  },
  {
   "cell_type": "code",
   "execution_count": 15,
   "outputs": [
    {
     "name": "stdout",
     "output_type": "stream",
     "text": [
      "+------+----+---------+------+-------------+--------+------+-----+--------+------+----+------------+---------+-----+------+---+---------+------+\n",
      "|artist|auth|firstName|gender|itemInSession|lastName|length|level|location|method|page|registration|sessionId| song|status| ts|userAgent|userId|\n",
      "+------+----+---------+------+-------------+--------+------+-----+--------+------+----+------------+---------+-----+------+---+---------+------+\n",
      "| 50046|   0|        0|     0|            0|       0| 50046|    0|       0|     0|   0|           0|        0|50046|     0|  0|        0|     0|\n",
      "+------+----+---------+------+-------------+--------+------+-----+--------+------+----+------------+---------+-----+------+---+---------+------+\n",
      "\n"
     ]
    }
   ],
   "source": [
    "cleaned_df = df.filter(F.col(\"userId\") != \"\")\n",
    "cleaned_df.select([F.count(F.when(F.isnull(c), c)).alias(c) for c in df.columns]).show()"
   ],
   "metadata": {
    "collapsed": false
   }
  },
  {
   "cell_type": "markdown",
   "source": [
    "## Empty Artists"
   ],
   "metadata": {
    "collapsed": false
   }
  },
  {
   "cell_type": "markdown",
   "source": [
    "### Check Empty Artists Distribution"
   ],
   "metadata": {
    "collapsed": false
   }
  },
  {
   "cell_type": "code",
   "execution_count": 16,
   "outputs": [
    {
     "name": "stdout",
     "output_type": "stream",
     "text": [
      "+------+----+------+---------------+\n",
      "|artist|song|userId|           page|\n",
      "+------+----+------+---------------+\n",
      "|  null|null|    30|Add to Playlist|\n",
      "|  null|null|     9|    Roll Advert|\n",
      "|  null|null|     9|      Thumbs Up|\n",
      "|  null|null|    54|      Downgrade|\n",
      "|  null|null|    54|      Thumbs Up|\n",
      "|  null|null|     9|    Thumbs Down|\n",
      "|  null|null|     9|           Home|\n",
      "|  null|null|     9|         Logout|\n",
      "|  null|null|    74|      Thumbs Up|\n",
      "|  null|null|      |           Home|\n",
      "|  null|null|      |           Help|\n",
      "|  null|null|      |           Home|\n",
      "|  null|null|      |          Login|\n",
      "|  null|null|     9|           Home|\n",
      "|  null|null|    30|    Thumbs Down|\n",
      "|  null|null|     4|         Logout|\n",
      "|  null|null|      |           Home|\n",
      "|  null|null|      |          Login|\n",
      "|  null|null|     4|           Home|\n",
      "|  null|null|    74|Add to Playlist|\n",
      "+------+----+------+---------------+\n",
      "only showing top 20 rows\n",
      "\n"
     ]
    }
   ],
   "source": [
    "df.filter(F.isnull(F.col(\"artist\"))).select([\"artist\", \"song\", \"userId\", \"page\"]).show()"
   ],
   "metadata": {
    "collapsed": false
   }
  },
  {
   "cell_type": "code",
   "execution_count": 17,
   "outputs": [
    {
     "name": "stdout",
     "output_type": "stream",
     "text": [
      "+--------------------+-----+\n",
      "|                page|count|\n",
      "+--------------------+-----+\n",
      "|              Cancel|   52|\n",
      "|    Submit Downgrade|   63|\n",
      "|         Thumbs Down| 2546|\n",
      "|                Home|14457|\n",
      "|           Downgrade| 2055|\n",
      "|         Roll Advert| 3933|\n",
      "|              Logout| 3226|\n",
      "|       Save Settings|  310|\n",
      "|Cancellation Conf...|   52|\n",
      "|               About|  924|\n",
      "|            Settings| 1514|\n",
      "|               Login| 3241|\n",
      "|     Add to Playlist| 6526|\n",
      "|          Add Friend| 4277|\n",
      "|           Thumbs Up|12551|\n",
      "|                Help| 1726|\n",
      "|             Upgrade|  499|\n",
      "|               Error|  258|\n",
      "|      Submit Upgrade|  159|\n",
      "|            Register|   18|\n",
      "+--------------------+-----+\n",
      "only showing top 20 rows\n",
      "\n"
     ]
    }
   ],
   "source": [
    "df.filter(F.isnull(F.col(\"artist\"))).select([\"artist\", \"song\", \"userId\", \"page\"]).groupby(\"page\").count().show()"
   ],
   "metadata": {
    "collapsed": false
   }
  },
  {
   "cell_type": "markdown",
   "source": [
    "We can observe that when the artist is null, the users are spending time on different pages than actually listening to music. In this case, such information is valuable to understand the behaviour of registered users."
   ],
   "metadata": {
    "collapsed": false
   }
  },
  {
   "cell_type": "markdown",
   "source": [
    "### Impute empty values"
   ],
   "metadata": {
    "collapsed": false
   }
  },
  {
   "cell_type": "code",
   "execution_count": 18,
   "outputs": [
    {
     "name": "stdout",
     "output_type": "stream",
     "text": [
      "+------+----+---------+------+-------------+--------+------+-----+--------+------+----+------------+---------+----+------+---+---------+------+\n",
      "|artist|auth|firstName|gender|itemInSession|lastName|length|level|location|method|page|registration|sessionId|song|status| ts|userAgent|userId|\n",
      "+------+----+---------+------+-------------+--------+------+-----+--------+------+----+------------+---------+----+------+---+---------+------+\n",
      "|     0|   0|        0|     0|            0|       0|     0|    0|       0|     0|   0|           0|        0|   0|     0|  0|        0|     0|\n",
      "+------+----+---------+------+-------------+--------+------+-----+--------+------+----+------------+---------+----+------+---+---------+------+\n",
      "\n"
     ]
    }
   ],
   "source": [
    "# Fill the length of the song with 0.\n",
    "# Fill the artist and the song with a string constant to signal that those pages don't have such information.\n",
    "cleaned_df = cleaned_df.fillna({\n",
    "    \"length\": 0,\n",
    "    \"artist\": \"unknown\",\n",
    "    \"song\": \"unknown\"\n",
    "})\n",
    "cleaned_df.select([F.count(F.when(F.isnull(c), c)).alias(c) for c in df.columns]).show()"
   ],
   "metadata": {
    "collapsed": false
   }
  },
  {
   "cell_type": "markdown",
   "source": [
    "Great! Now our data no longer has any `None` values. The last cleaning step is to check the types of the variables."
   ],
   "metadata": {
    "collapsed": false
   }
  },
  {
   "cell_type": "markdown",
   "source": [
    "## Check Types"
   ],
   "metadata": {
    "collapsed": false
   }
  },
  {
   "cell_type": "code",
   "execution_count": 19,
   "outputs": [
    {
     "name": "stdout",
     "output_type": "stream",
     "text": [
      "root\n",
      " |-- artist: string (nullable = false)\n",
      " |-- auth: string (nullable = true)\n",
      " |-- firstName: string (nullable = true)\n",
      " |-- gender: string (nullable = true)\n",
      " |-- itemInSession: long (nullable = true)\n",
      " |-- lastName: string (nullable = true)\n",
      " |-- length: double (nullable = false)\n",
      " |-- level: string (nullable = true)\n",
      " |-- location: string (nullable = true)\n",
      " |-- method: string (nullable = true)\n",
      " |-- page: string (nullable = true)\n",
      " |-- registration: long (nullable = true)\n",
      " |-- sessionId: long (nullable = true)\n",
      " |-- song: string (nullable = false)\n",
      " |-- status: long (nullable = true)\n",
      " |-- ts: long (nullable = true)\n",
      " |-- userAgent: string (nullable = true)\n",
      " |-- userId: string (nullable = true)\n",
      "\n"
     ]
    }
   ],
   "source": [
    "cleaned_df.printSchema()"
   ],
   "metadata": {
    "collapsed": false
   }
  },
  {
   "cell_type": "code",
   "execution_count": 20,
   "outputs": [
    {
     "name": "stdout",
     "output_type": "stream",
     "text": [
      "+----------------+---------+---------+------+-------------+--------+---------+-----+--------------------+------+--------+-------------+---------+--------------------+------+-------------+--------------------+------+\n",
      "|          artist|     auth|firstName|gender|itemInSession|lastName|   length|level|            location|method|    page| registration|sessionId|                song|status|           ts|           userAgent|userId|\n",
      "+----------------+---------+---------+------+-------------+--------+---------+-----+--------------------+------+--------+-------------+---------+--------------------+------+-------------+--------------------+------+\n",
      "|  Martha Tilston|Logged In|    Colin|     M|           50| Freeman|277.89016| paid|     Bakersfield, CA|   PUT|NextSong|1538173362000|       29|           Rockpools|   200|1538352117000|Mozilla/5.0 (Wind...|    30|\n",
      "|Five Iron Frenzy|Logged In|    Micah|     M|           79|    Long|236.09424| free|Boston-Cambridge-...|   PUT|NextSong|1538331630000|        8|              Canada|   200|1538352180000|\"Mozilla/5.0 (Win...|     9|\n",
      "|    Adam Lambert|Logged In|    Colin|     M|           51| Freeman| 282.8273| paid|     Bakersfield, CA|   PUT|NextSong|1538173362000|       29|   Time For Miracles|   200|1538352394000|Mozilla/5.0 (Wind...|    30|\n",
      "|          Enigma|Logged In|    Micah|     M|           80|    Long|262.71302| free|Boston-Cambridge-...|   PUT|NextSong|1538331630000|        8|Knocking On Forbi...|   200|1538352416000|\"Mozilla/5.0 (Win...|     9|\n",
      "|       Daft Punk|Logged In|    Colin|     M|           52| Freeman|223.60771| paid|     Bakersfield, CA|   PUT|NextSong|1538173362000|       29|Harder Better Fas...|   200|1538352676000|Mozilla/5.0 (Wind...|    30|\n",
      "+----------------+---------+---------+------+-------------+--------+---------+-----+--------------------+------+--------+-------------+---------+--------------------+------+-------------+--------------------+------+\n",
      "only showing top 5 rows\n",
      "\n"
     ]
    }
   ],
   "source": [
    "cleaned_df.show(n=5)"
   ],
   "metadata": {
    "collapsed": false
   }
  },
  {
   "cell_type": "markdown",
   "source": [
    "All the types are looking all right. We can proceed to EDA."
   ],
   "metadata": {
    "collapsed": false
   }
  },
  {
   "cell_type": "markdown",
   "metadata": {},
   "source": [
    "# Exploratory Data Analysis"
   ]
  },
  {
   "cell_type": "markdown",
   "source": [
    "### Define Churn\n",
    "\n",
    "We will consider that a user is `churn` when the subscription is canceled."
   ],
   "metadata": {
    "collapsed": false
   }
  },
  {
   "cell_type": "code",
   "execution_count": 21,
   "outputs": [
    {
     "name": "stdout",
     "output_type": "stream",
     "text": [
      "+-------------------------+\n",
      "|Cancellation Confirmation|\n",
      "+-------------------------+\n",
      "|                       52|\n",
      "+-------------------------+\n",
      "\n"
     ]
    }
   ],
   "source": [
    "cleaned_df.select(F.count(F.when(F.col(\"page\") == \"Cancellation Confirmation\", \"page\")).alias(\"Cancellation Confirmation\")).show()"
   ],
   "metadata": {
    "collapsed": false
   }
  },
  {
   "cell_type": "code",
   "execution_count": 22,
   "outputs": [
    {
     "name": "stdout",
     "output_type": "stream",
     "text": [
      "+----------------+---------+---------+------+-------------+--------+---------+-----+--------------------+------+--------+-------------+---------+--------------------+------+-------------+--------------------+------+----------+\n",
      "|          artist|     auth|firstName|gender|itemInSession|lastName|   length|level|            location|method|    page| registration|sessionId|                song|status|           ts|           userAgent|userId|churnEvent|\n",
      "+----------------+---------+---------+------+-------------+--------+---------+-----+--------------------+------+--------+-------------+---------+--------------------+------+-------------+--------------------+------+----------+\n",
      "|  Martha Tilston|Logged In|    Colin|     M|           50| Freeman|277.89016| paid|     Bakersfield, CA|   PUT|NextSong|1538173362000|       29|           Rockpools|   200|1538352117000|Mozilla/5.0 (Wind...|    30|         0|\n",
      "|Five Iron Frenzy|Logged In|    Micah|     M|           79|    Long|236.09424| free|Boston-Cambridge-...|   PUT|NextSong|1538331630000|        8|              Canada|   200|1538352180000|\"Mozilla/5.0 (Win...|     9|         0|\n",
      "|    Adam Lambert|Logged In|    Colin|     M|           51| Freeman| 282.8273| paid|     Bakersfield, CA|   PUT|NextSong|1538173362000|       29|   Time For Miracles|   200|1538352394000|Mozilla/5.0 (Wind...|    30|         0|\n",
      "|          Enigma|Logged In|    Micah|     M|           80|    Long|262.71302| free|Boston-Cambridge-...|   PUT|NextSong|1538331630000|        8|Knocking On Forbi...|   200|1538352416000|\"Mozilla/5.0 (Win...|     9|         0|\n",
      "|       Daft Punk|Logged In|    Colin|     M|           52| Freeman|223.60771| paid|     Bakersfield, CA|   PUT|NextSong|1538173362000|       29|Harder Better Fas...|   200|1538352676000|Mozilla/5.0 (Wind...|    30|         0|\n",
      "+----------------+---------+---------+------+-------------+--------+---------+-----+--------------------+------+--------+-------------+---------+--------------------+------+-------------+--------------------+------+----------+\n",
      "only showing top 5 rows\n",
      "\n"
     ]
    }
   ],
   "source": [
    "# First, create the churn event based on the visited page.\n",
    "# The churnEvent will be different for every event/visited page.\n",
    "labeled_df = cleaned_df.withColumn(\"churnEvent\", F.when(F.col(\"page\") == \"Cancellation Confirmation\", 1).otherwise(0))\n",
    "labeled_df.show(n=5)"
   ],
   "metadata": {
    "collapsed": false
   }
  },
  {
   "cell_type": "code",
   "execution_count": 23,
   "outputs": [
    {
     "name": "stdout",
     "output_type": "stream",
     "text": [
      "+--------------------+---------+---------+------+-------------+---------+---------+-----+-----------------+------+--------------------+-------------+---------+--------------------+------+-------------+--------------------+------+----------+-----+\n",
      "|              artist|     auth|firstName|gender|itemInSession| lastName|   length|level|         location|method|                page| registration|sessionId|                song|status|           ts|           userAgent|userId|churnEvent|churn|\n",
      "+--------------------+---------+---------+------+-------------+---------+---------+-----+-----------------+------+--------------------+-------------+---------+--------------------+------+-------------+--------------------+------+----------+-----+\n",
      "|             unknown|Logged In|    Molly|     F|            1|Patterson|      0.0| free|Memphis, TN-MS-AR|   GET|                Home|1535498705000|      403|             unknown|   200|1538657235000|Mozilla/5.0 (X11;...|   122|         0|    1|\n",
      "|             unknown|Logged In|    Molly|     F|            2|Patterson|      0.0| free|Memphis, TN-MS-AR|   PUT|              Logout|1535498705000|      403|             unknown|   307|1538657236000|Mozilla/5.0 (X11;...|   122|         0|    1|\n",
      "|             unknown|Logged In|    Molly|     F|            3|Patterson|      0.0| free|Memphis, TN-MS-AR|   GET|                Home|1535498705000|      611|             unknown|   200|1539173538000|Mozilla/5.0 (X11;...|   122|         0|    1|\n",
      "|         Danger Doom|Logged In|    Molly|     F|            4|Patterson|160.36526| free|Memphis, TN-MS-AR|   PUT|            NextSong|1535498705000|      611|Old School Rules ...|   200|1539173664000|Mozilla/5.0 (X11;...|   122|         0|    1|\n",
      "|Florence + The Ma...|Logged In|    Molly|     F|            5|Patterson| 131.3171| free|Memphis, TN-MS-AR|   PUT|            NextSong|1535498705000|      611|    Kiss With A Fist|   200|1539173824000|Mozilla/5.0 (X11;...|   122|         0|    1|\n",
      "|       Groove Armada|Logged In|    Molly|     F|            6|Patterson|309.68118| free|Memphis, TN-MS-AR|   PUT|            NextSong|1535498705000|      611|       Serve Chilled|   200|1539173955000|Mozilla/5.0 (X11;...|   122|         0|    1|\n",
      "|The All-American ...|Logged In|    Molly|     F|            7|Patterson|194.79465| free|Memphis, TN-MS-AR|   PUT|            NextSong|1535498705000|      611|Mona Lisa (When T...|   200|1539174264000|Mozilla/5.0 (X11;...|   122|         0|    1|\n",
      "|Metallica / Maria...|Logged In|    Molly|     F|            8|Patterson|279.11791| free|Memphis, TN-MS-AR|   PUT|            NextSong|1535498705000|      611|  The Memory Remains|   200|1539174458000|Mozilla/5.0 (X11;...|   122|         0|    1|\n",
      "|             unknown|Logged In|    Molly|     F|            9|Patterson|      0.0| free|Memphis, TN-MS-AR|   GET|         Roll Advert|1535498705000|      611|             unknown|   200|1539174569000|Mozilla/5.0 (X11;...|   122|         0|    1|\n",
      "|             unknown|Logged In|    Molly|     F|            0|Patterson|      0.0| free|Memphis, TN-MS-AR|   GET|                Home|1535498705000|      691|             unknown|   200|1539886900000|Mozilla/5.0 (X11;...|   122|         0|    1|\n",
      "|Atlanta Rhythm Se...|Logged In|    Molly|     F|            1|Patterson|217.80853| free|Memphis, TN-MS-AR|   PUT|            NextSong|1535498705000|      691|           Doraville|   200|1539886903000|Mozilla/5.0 (X11;...|   122|         0|    1|\n",
      "|           Lady GaGa|Logged In|    Molly|     F|            2|Patterson|274.18077| free|Memphis, TN-MS-AR|   PUT|            NextSong|1535498705000|      691|           Alejandro|   200|1539887120000|Mozilla/5.0 (X11;...|   122|         0|    1|\n",
      "|       Guns N' Roses|Logged In|    Molly|     F|            3|Patterson| 184.0322| free|Memphis, TN-MS-AR|   PUT|            NextSong|1535498705000|      691|    Live And Let Die|   200|1539887394000|Mozilla/5.0 (X11;...|   122|         0|    1|\n",
      "|        Cyndi Lauper|Logged In|    Molly|     F|            4|Patterson|228.88444| free|Memphis, TN-MS-AR|   PUT|            NextSong|1535498705000|      691|Girls Just Want T...|   200|1539887578000|Mozilla/5.0 (X11;...|   122|         0|    1|\n",
      "|             unknown|Logged In|    Molly|     F|            5|Patterson|      0.0| free|Memphis, TN-MS-AR|   GET|         Roll Advert|1535498705000|      691|             unknown|   200|1539887683000|Mozilla/5.0 (X11;...|   122|         0|    1|\n",
      "|           Cat Power|Logged In|    Molly|     F|            6|Patterson| 142.8371| free|Memphis, TN-MS-AR|   PUT|            NextSong|1535498705000|      691|         Sea Of Love|   200|1539887806000|Mozilla/5.0 (X11;...|   122|         0|    1|\n",
      "|   The Rockin Rebels|Logged In|    Molly|     F|            7|Patterson| 138.1873| free|Memphis, TN-MS-AR|   PUT|            NextSong|1535498705000|      691|        Wild Weekend|   200|1539887948000|Mozilla/5.0 (X11;...|   122|         0|    1|\n",
      "|             unknown|Logged In|    Molly|     F|            8|Patterson|      0.0| free|Memphis, TN-MS-AR|   GET|                Home|1535498705000|      691|             unknown|   200|1539888010000|Mozilla/5.0 (X11;...|   122|         0|    1|\n",
      "|   Cage The Elephant|Logged In|    Molly|     F|            0|Patterson| 228.0224| free|Memphis, TN-MS-AR|   PUT|            NextSong|1535498705000|     1029|Back Against The ...|   200|1540055184000|Mozilla/5.0 (X11;...|   122|         0|    1|\n",
      "|             unknown|Logged In|    Molly|     F|            1|Patterson|      0.0| free|Memphis, TN-MS-AR|   GET|                Home|1535498705000|     1029|             unknown|   200|1540055184000|Mozilla/5.0 (X11;...|   122|         0|    1|\n",
      "|            De-Phazz|Logged In|    Molly|     F|            2|Patterson|220.99546| free|Memphis, TN-MS-AR|   PUT|            NextSong|1535498705000|     1029|       Belle de Jour|   200|1540055412000|Mozilla/5.0 (X11;...|   122|         0|    1|\n",
      "|   King Biscuit Time|Logged In|    Molly|     F|            3|Patterson|227.52608| free|Memphis, TN-MS-AR|   PUT|            NextSong|1535498705000|     1029|      Time To Get Up|   200|1540055632000|Mozilla/5.0 (X11;...|   122|         0|    1|\n",
      "|             unknown|Logged In|    Molly|     F|            4|Patterson|      0.0| free|Memphis, TN-MS-AR|   GET|             Upgrade|1535498705000|     1029|             unknown|   200|1540055690000|Mozilla/5.0 (X11;...|   122|         0|    1|\n",
      "|             unknown|Logged In|    Molly|     F|            5|Patterson|      0.0| free|Memphis, TN-MS-AR|   GET|             Upgrade|1535498705000|     1029|             unknown|   200|1540055771000|Mozilla/5.0 (X11;...|   122|         0|    1|\n",
      "|             unknown|Logged In|    Molly|     F|            6|Patterson|      0.0| free|Memphis, TN-MS-AR|   PUT|      Submit Upgrade|1535498705000|     1029|             unknown|   307|1540055772000|Mozilla/5.0 (X11;...|   122|         0|    1|\n",
      "|             unknown|Logged In|    Molly|     F|            7|Patterson|      0.0| paid|Memphis, TN-MS-AR|   GET|                Home|1535498705000|     1029|             unknown|   200|1540055776000|Mozilla/5.0 (X11;...|   122|         0|    1|\n",
      "|             unknown|Logged In|    Molly|     F|            8|Patterson|      0.0| paid|Memphis, TN-MS-AR|   PUT|          Add Friend|1535498705000|     1029|             unknown|   307|1540055777000|Mozilla/5.0 (X11;...|   122|         0|    1|\n",
      "|Afro-Cuban All Stars|Logged In|    Molly|     F|            9|Patterson| 288.1824| paid|Memphis, TN-MS-AR|   PUT|            NextSong|1535498705000|     1029|MarÃÂ­a Caracole...|   200|1540055859000|Mozilla/5.0 (X11;...|   122|         0|    1|\n",
      "|       Spiritualized|Logged In|    Molly|     F|           10|Patterson|344.99873| paid|Memphis, TN-MS-AR|   PUT|            NextSong|1535498705000|     1029|Why Don't You Smi...|   200|1540056147000|Mozilla/5.0 (X11;...|   122|         0|    1|\n",
      "|            Cyberfit|Logged In|    Molly|     F|           11|Patterson|303.15057| paid|Memphis, TN-MS-AR|   PUT|            NextSong|1535498705000|     1029|           Pojo Pojo|   200|1540056491000|Mozilla/5.0 (X11;...|   122|         0|    1|\n",
      "|Alison Krauss / U...|Logged In|    Molly|     F|           12|Patterson|171.04934| paid|Memphis, TN-MS-AR|   PUT|            NextSong|1535498705000|     1029|            Restless|   200|1540056794000|Mozilla/5.0 (X11;...|   122|         0|    1|\n",
      "|             Cartola|Logged In|    Molly|     F|           13|Patterson|  127.242| paid|Memphis, TN-MS-AR|   PUT|            NextSong|1535498705000|     1029|            Tive Sim|   200|1540056965000|Mozilla/5.0 (X11;...|   122|         0|    1|\n",
      "|             unknown|Logged In|    Molly|     F|           14|Patterson|      0.0| paid|Memphis, TN-MS-AR|   PUT|           Thumbs Up|1535498705000|     1029|             unknown|   307|1540056966000|Mozilla/5.0 (X11;...|   122|         0|    1|\n",
      "|Thao with The Get...|Logged In|    Molly|     F|           15|Patterson|193.74975| paid|Memphis, TN-MS-AR|   PUT|            NextSong|1535498705000|     1029|           Geography|   200|1540057092000|Mozilla/5.0 (X11;...|   122|         0|    1|\n",
      "|          Kanye West|Logged In|    Molly|     F|           16|Patterson|278.07302| paid|Memphis, TN-MS-AR|   PUT|            NextSong|1535498705000|     1029|    Through The Wire|   200|1540057285000|Mozilla/5.0 (X11;...|   122|         0|    1|\n",
      "|The Lonely Island...|Logged In|    Molly|     F|           17|Patterson| 192.9922| paid|Memphis, TN-MS-AR|   PUT|            NextSong|1535498705000|     1029|             Boombox|   200|1540057563000|Mozilla/5.0 (X11;...|   122|         0|    1|\n",
      "|Soulja Boy Tell'e...|Logged In|    Molly|     F|           18|Patterson| 194.2722| paid|Memphis, TN-MS-AR|   PUT|            NextSong|1535498705000|     1029|Kiss Me Thru The ...|   200|1540057755000|Mozilla/5.0 (X11;...|   122|         0|    1|\n",
      "|      More Fire Crew|Logged In|    Molly|     F|           19|Patterson| 353.4624| paid|Memphis, TN-MS-AR|   PUT|            NextSong|1535498705000|     1029|         Never Trust|   200|1540057949000|Mozilla/5.0 (X11;...|   122|         0|    1|\n",
      "|         Donna Lewis|Logged In|    Molly|     F|           20|Patterson|240.95302| paid|Memphis, TN-MS-AR|   PUT|            NextSong|1535498705000|     1029|I Love You Always...|   200|1540058302000|Mozilla/5.0 (X11;...|   122|         0|    1|\n",
      "|  Renegade Soundwave|Logged In|    Molly|     F|           21|Patterson|224.67873| paid|Memphis, TN-MS-AR|   PUT|            NextSong|1535498705000|     1029|  Pocket Porn (1990)|   200|1540058542000|Mozilla/5.0 (X11;...|   122|         0|    1|\n",
      "|         Cat Stevens|Logged In|    Molly|     F|           22|Patterson|225.17506| paid|Memphis, TN-MS-AR|   PUT|            NextSong|1535498705000|     1029|            Sad Lisa|   200|1540058766000|Mozilla/5.0 (X11;...|   122|         0|    1|\n",
      "|            La Renga|Logged In|    Molly|     F|           23|Patterson|307.35628| paid|Memphis, TN-MS-AR|   PUT|            NextSong|1535498705000|     1029|Triste CanciÃÂ³n...|   200|1540058991000|Mozilla/5.0 (X11;...|   122|         0|    1|\n",
      "|              Eagles|Logged In|    Molly|     F|           24|Patterson|241.78893| paid|Memphis, TN-MS-AR|   PUT|            NextSong|1535498705000|     1029|Take The Devil (L...|   200|1540059298000|Mozilla/5.0 (X11;...|   122|         0|    1|\n",
      "|             unknown|Logged In|    Molly|     F|           25|Patterson|      0.0| paid|Memphis, TN-MS-AR|   PUT|         Thumbs Down|1535498705000|     1029|             unknown|   307|1540059299000|Mozilla/5.0 (X11;...|   122|         0|    1|\n",
      "|        Modest Mouse|Logged In|    Molly|     F|           26|Patterson|246.17751| paid|Memphis, TN-MS-AR|   PUT|            NextSong|1535498705000|     1029|           Dashboard|   200|1540059539000|Mozilla/5.0 (X11;...|   122|         0|    1|\n",
      "|   59 Times the Pain|Logged In|    Molly|     F|           27|Patterson|144.95302| paid|Memphis, TN-MS-AR|   PUT|            NextSong|1535498705000|     1029|          Found Home|   200|1540059785000|Mozilla/5.0 (X11;...|   122|         0|    1|\n",
      "|         Suzi Quatro|Logged In|    Molly|     F|           28|Patterson|239.72526| paid|Memphis, TN-MS-AR|   PUT|            NextSong|1535498705000|     1029|       Daytona Demon|   200|1540059929000|Mozilla/5.0 (X11;...|   122|         0|    1|\n",
      "|             unknown|Logged In|    Molly|     F|           29|Patterson|      0.0| paid|Memphis, TN-MS-AR|   PUT|           Thumbs Up|1535498705000|     1029|             unknown|   307|1540059930000|Mozilla/5.0 (X11;...|   122|         0|    1|\n",
      "|            No Doubt|Logged In|    Molly|     F|           30|Patterson|241.81506| paid|Memphis, TN-MS-AR|   PUT|            NextSong|1535498705000|     1029|             Running|   200|1540060168000|Mozilla/5.0 (X11;...|   122|         0|    1|\n",
      "|        Lisac Josipa|Logged In|    Molly|     F|           31|Patterson|  271.882| paid|Memphis, TN-MS-AR|   PUT|            NextSong|1535498705000|     1029|       Le~aj od suza|   200|1540060409000|Mozilla/5.0 (X11;...|   122|         0|    1|\n",
      "|         Kim Burrell|Logged In|    Molly|     F|           32|Patterson|249.67791| paid|Memphis, TN-MS-AR|   PUT|            NextSong|1535498705000|     1029|        Just as I Am|   200|1540060680000|Mozilla/5.0 (X11;...|   122|         0|    1|\n",
      "|              Xzibit|Logged In|    Molly|     F|           33|Patterson|262.29506| paid|Memphis, TN-MS-AR|   PUT|            NextSong|1535498705000|     1029|       Chamber Music|   200|1540060929000|Mozilla/5.0 (X11;...|   122|         0|    1|\n",
      "|        Brad Paisley|Logged In|    Molly|     F|           34|Patterson|266.91873| paid|Memphis, TN-MS-AR|   PUT|            NextSong|1535498705000|     1029|    She's Everything|   200|1540061191000|Mozilla/5.0 (X11;...|   122|         0|    1|\n",
      "|        New Radicals|Logged In|    Molly|     F|           35|Patterson|219.19302| paid|Memphis, TN-MS-AR|   PUT|            NextSong|1535498705000|     1029|  Someday We'll Know|   200|1540061457000|Mozilla/5.0 (X11;...|   122|         0|    1|\n",
      "|               3OH!3|Logged In|    Molly|     F|           36|Patterson|  192.522| paid|Memphis, TN-MS-AR|   PUT|            NextSong|1535498705000|     1029|My First Kiss (Fe...|   200|1540061676000|Mozilla/5.0 (X11;...|   122|         0|    1|\n",
      "|      Robert Johnson|Logged In|    Molly|     F|           37|Patterson|154.09587| paid|Memphis, TN-MS-AR|   PUT|            NextSong|1535498705000|     1029|I?'m A Steady Rol...|   200|1540061868000|Mozilla/5.0 (X11;...|   122|         0|    1|\n",
      "|             unknown|Logged In|    Molly|     F|           38|Patterson|      0.0| paid|Memphis, TN-MS-AR|   PUT|           Thumbs Up|1535498705000|     1029|             unknown|   307|1540061869000|Mozilla/5.0 (X11;...|   122|         0|    1|\n",
      "|             unknown|Logged In|    Molly|     F|           39|Patterson|      0.0| paid|Memphis, TN-MS-AR|   PUT|     Add to Playlist|1535498705000|     1029|             unknown|   200|1540061987000|Mozilla/5.0 (X11;...|   122|         0|    1|\n",
      "|         Bob Newhart|Logged In|    Molly|     F|           40|Patterson|367.98649| paid|Memphis, TN-MS-AR|   PUT|            NextSong|1535498705000|     1029|Introducing Tobac...|   200|1540062022000|Mozilla/5.0 (X11;...|   122|         0|    1|\n",
      "|             unknown|Logged In|    Molly|     F|           41|Patterson|      0.0| paid|Memphis, TN-MS-AR|   GET|            Settings|1535498705000|     1029|             unknown|   200|1540062049000|Mozilla/5.0 (X11;...|   122|         0|    1|\n",
      "|             unknown|Logged In|    Molly|     F|           42|Patterson|      0.0| paid|Memphis, TN-MS-AR|   PUT|              Cancel|1535498705000|     1029|             unknown|   307|1540062050000|Mozilla/5.0 (X11;...|   122|         0|    1|\n",
      "|             unknown|Cancelled|    Molly|     F|           43|Patterson|      0.0| paid|Memphis, TN-MS-AR|   GET|Cancellation Conf...|1535498705000|     1029|             unknown|   200|1540062068000|Mozilla/5.0 (X11;...|   122|         1|    1|\n",
      "+--------------------+---------+---------+------+-------------+---------+---------+-----+-----------------+------+--------------------+-------------+---------+--------------------+------+-------------+--------------------+------+----------+-----+\n",
      "\n"
     ]
    }
   ],
   "source": [
    "# Now create the churn label which is unique for every user.\n",
    "labeled_df = labeled_df.withColumn(\"churn\", F.sum(\"churnEvent\").over(Window.partitionBy(\"userId\")))\n",
    "labeled_df = labeled_df.withColumn(\"churn\", F.when(F.col(\"churn\") >= 1, 1).otherwise(0))\n",
    "labeled_df.filter(F.col(\"userId\") == \"122\").show(n=100)"
   ],
   "metadata": {
    "collapsed": false
   }
  },
  {
   "cell_type": "markdown",
   "source": [
    "### Explore Data\n",
    "Once you've defined churn, perform some exploratory data analysis to observe the behavior for users who stayed vs users who churned. You can start by exploring aggregates on these two groups of users, observing how much of a specific action they experienced per a certain time unit or number of songs played."
   ],
   "metadata": {
    "collapsed": false
   }
  },
  {
   "cell_type": "code",
   "execution_count": 24,
   "outputs": [],
   "source": [
    "palette = sns.color_palette(\"Set2\")\n",
    "sns.set_palette(palette)"
   ],
   "metadata": {
    "collapsed": false
   }
  },
  {
   "cell_type": "markdown",
   "source": [
    "##### Sample the Dataset for EDA\n",
    "This is useful for when the full dataset is used."
   ],
   "metadata": {
    "collapsed": false
   }
  },
  {
   "cell_type": "code",
   "execution_count": 25,
   "outputs": [
    {
     "name": "stdout",
     "output_type": "stream",
     "text": [
      "Sampling fraction for EDA: 100.00%\n",
      "+--------------------+---------+---------+------+-------------+---------+---------+-----+--------------------+------+--------+-------------+---------+--------------------+------+-------------+--------------------+------+----------+-----+\n",
      "|              artist|     auth|firstName|gender|itemInSession| lastName|   length|level|            location|method|    page| registration|sessionId|                song|status|           ts|           userAgent|userId|churnEvent|churn|\n",
      "+--------------------+---------+---------+------+-------------+---------+---------+-----+--------------------+------+--------+-------------+---------+--------------------+------+-------------+--------------------+------+----------+-----+\n",
      "|Sleeping With Sirens|Logged In| Darianna|     F|            0|Carpenter|202.97098| free|Bridgeport-Stamfo...|   PUT|NextSong|1538016340000|       31|Captain Tyin Knot...|   200|1539003534000|\"Mozilla/5.0 (iPh...|100010|         0|    0|\n",
      "+--------------------+---------+---------+------+-------------+---------+---------+-----+--------------------+------+--------+-------------+---------+--------------------+------+-------------+--------------------+------+----------+-----+\n",
      "only showing top 1 row\n",
      "\n"
     ]
    }
   ],
   "source": [
    "mini_df_count = 278154\n",
    "# Keep the number of records from the mini dataframe as a point of reference. If we use only the mini dataframe, then all the records will be used.\n",
    "sampling_fraction = 278154 / labeled_df.count()\n",
    "print(f\"Sampling fraction for EDA: {sampling_fraction * 100:.2f}%\")\n",
    "eda_df = labeled_df.sample(withReplacement=False, fraction=sampling_fraction, seed=42)\n",
    "eda_df.show(n=1)"
   ],
   "metadata": {
    "collapsed": false
   }
  },
  {
   "cell_type": "markdown",
   "source": [
    "#### Users Churn Distribution"
   ],
   "metadata": {
    "collapsed": false
   }
  },
  {
   "cell_type": "code",
   "execution_count": 26,
   "outputs": [
    {
     "data": {
      "text/plain": "<Figure size 1000x600 with 1 Axes>",
      "image/png": "[encoded data removed]"
     },
     "metadata": {},
     "output_type": "display_data"
    }
   ],
   "source": [
    "user_churn_distribution = eda_df.select([\"userId\", \"churn\"]).distinct().groupby(\"churn\").count().toPandas()\n",
    "fig, ax = plt.subplots(1, 1, figsize=(10, 6))\n",
    "sns.barplot(data=user_churn_distribution, x=\"churn\", y=\"count\", errorbar=(\"pi\", 50), capsize=.4, errcolor=\".5\", linewidth=3, edgecolor=\".5\", ax=ax)\n",
    "ax.set_title(\"User Churn Distribution\", fontsize=20)\n",
    "ax.set_xlabel(\"0 = No churn users; 1 = Churn users\", fontsize=14)\n",
    "ax.set_ylabel(\"Number of users\", fontsize=14)\n",
    "fig.savefig(\"images/user_churn_distribution.jpg\");"
   ],
   "metadata": {
    "collapsed": false
   }
  },
  {
   "cell_type": "markdown",
   "source": [
    "The distribution is highly skewed towards the `no churn` users. That is why we will use the `F1` score to find the best model in the cross validation step."
   ],
   "metadata": {
    "collapsed": false
   }
  },
  {
   "cell_type": "markdown",
   "source": [
    "#### Possible Pages"
   ],
   "metadata": {
    "collapsed": false
   }
  },
  {
   "cell_type": "code",
   "execution_count": 27,
   "outputs": [
    {
     "name": "stdout",
     "output_type": "stream",
     "text": [
      "+--------------------+\n",
      "|                page|\n",
      "+--------------------+\n",
      "|              Cancel|\n",
      "|    Submit Downgrade|\n",
      "|         Thumbs Down|\n",
      "|                Home|\n",
      "|           Downgrade|\n",
      "|         Roll Advert|\n",
      "|              Logout|\n",
      "|       Save Settings|\n",
      "|Cancellation Conf...|\n",
      "|               About|\n",
      "|            Settings|\n",
      "|     Add to Playlist|\n",
      "|          Add Friend|\n",
      "|            NextSong|\n",
      "|           Thumbs Up|\n",
      "|                Help|\n",
      "|             Upgrade|\n",
      "|               Error|\n",
      "|      Submit Upgrade|\n",
      "+--------------------+\n",
      "\n"
     ]
    }
   ],
   "source": [
    "eda_df.select(\"page\").distinct().show()"
   ],
   "metadata": {
    "collapsed": false
   }
  },
  {
   "cell_type": "code",
   "execution_count": 28,
   "outputs": [
    {
     "name": "stdout",
     "output_type": "stream",
     "text": [
      "+--------+\n",
      "|    page|\n",
      "+--------+\n",
      "|NextSong|\n",
      "+--------+\n",
      "\n"
     ]
    }
   ],
   "source": [
    "eda_df.filter(F.col(\"artist\") != \"unknown\").select(\"page\").distinct().show()"
   ],
   "metadata": {
    "collapsed": false
   }
  },
  {
   "cell_type": "markdown",
   "source": [
    "The only page where music is played is called `NextSong`."
   ],
   "metadata": {
    "collapsed": false
   }
  },
  {
   "cell_type": "markdown",
   "source": [
    "#### Gender Distribution"
   ],
   "metadata": {
    "collapsed": false
   }
  },
  {
   "cell_type": "code",
   "execution_count": 29,
   "outputs": [
    {
     "data": {
      "text/plain": "<Figure size 1000x600 with 1 Axes>",
      "image/png": "[encoded data removed]"
     },
     "metadata": {},
     "output_type": "display_data"
    }
   ],
   "source": [
    "gender_distribution = eda_df.select([\"churn\", \"userId\", \"gender\"]).distinct().groupby([\"churn\", \"gender\"]).count().toPandas()\n",
    "fig, ax = plt.subplots(1, 1, figsize=(10, 6))\n",
    "sns.barplot(data=gender_distribution, x=\"churn\", y=\"count\", hue=\"gender\", errorbar=(\"pi\", 50), capsize=.4, errcolor=\".5\", linewidth=3, edgecolor=\".5\", ax=ax)\n",
    "ax.set_title(\"Gender Distribution\", fontsize=20)\n",
    "ax.set_xlabel(\"0 = No churn users; 1 = Churn users\", fontsize=14)\n",
    "ax.set_ylabel(\"Users\", fontsize=14)\n",
    "fig.savefig(\"images/gender_distribution.jpg\");"
   ],
   "metadata": {
    "collapsed": false
   }
  },
  {
   "cell_type": "code",
   "execution_count": 29,
   "outputs": [],
   "source": [],
   "metadata": {
    "collapsed": false
   }
  },
  {
   "cell_type": "markdown",
   "source": [
    "Visually it seems that there are more males into the churn group than females. But, we won't use this as a feature, because the difference is not that big (to be 100% we should statistically check the difference between the two distributions) and we don't want to bias the model towards the gender."
   ],
   "metadata": {
    "collapsed": false
   }
  },
  {
   "cell_type": "markdown",
   "source": [
    "#### Distribution of the Average Number of Visited Pages by Every User"
   ],
   "metadata": {
    "collapsed": false
   }
  },
  {
   "cell_type": "code",
   "execution_count": 30,
   "outputs": [
    {
     "data": {
      "text/plain": "<Figure size 1000x600 with 1 Axes>",
      "image/png": "[encoded data removed]"
     },
     "metadata": {},
     "output_type": "display_data"
    }
   ],
   "source": [
    "visited_pages_distribution = eda_df.groupby([\"churn\", \"userId\"]).count().groupby(\"churn\").agg(F.avg(\"count\").alias(\"Average Visited Pages\")).toPandas()\n",
    "fig, ax = plt.subplots(1, 1, figsize=(10, 6))\n",
    "sns.barplot(data=visited_pages_distribution, x=\"churn\", y=\"Average Visited Pages\", errorbar=(\"pi\", 50), capsize=.4, errcolor=\".5\", linewidth=3, edgecolor=\".5\", ax=ax)\n",
    "ax.set_title(\"Average visited pages\", fontsize=20)\n",
    "ax.set_xlabel(\"0 = No churn users; 1 = Churn users\", fontsize=14)\n",
    "ax.set_ylabel(\"Number of visited pages\", fontsize=14)\n",
    "fig.savefig(\"images/visited_pages_distribution.jpg\");"
   ],
   "metadata": {
    "collapsed": false
   }
  },
  {
   "cell_type": "markdown",
   "source": [
    "Users that remained on the platform on average visited more pages."
   ],
   "metadata": {
    "collapsed": false
   }
  },
  {
   "cell_type": "markdown",
   "source": [
    "#### Distribution of the Average Number of Songs Listened by Every User"
   ],
   "metadata": {
    "collapsed": false
   }
  },
  {
   "cell_type": "code",
   "execution_count": 31,
   "outputs": [
    {
     "data": {
      "text/plain": "<Figure size 1000x600 with 1 Axes>",
      "image/png": "[encoded data removed]"
     },
     "metadata": {},
     "output_type": "display_data"
    }
   ],
   "source": [
    "listened_songs_distribution = eda_df.where(F.col(\"artist\") != \"unknown\").groupby([\"churn\", \"userId\"]).count().groupby(\"churn\").agg(F.avg(\"count\").alias(\"Average Songs Played\")).toPandas()\n",
    "fig, ax = plt.subplots(1, 1, figsize=(10, 6))\n",
    "sns.barplot(data=listened_songs_distribution, x=\"churn\", y=\"Average Songs Played\", errorbar=(\"pi\", 50), capsize=.4, errcolor=\".5\", linewidth=3, edgecolor=\".5\", ax=ax)\n",
    "ax.set_title(\"Average Songs Played\", fontsize=20)\n",
    "ax.set_xlabel(\"0 = No churn users; 1 = Churn users\", fontsize=14)\n",
    "ax.set_ylabel(\"Number of songs Played\", fontsize=14)\n",
    "fig.savefig(\"images/listened_songs_distribution.jpg\");"
   ],
   "metadata": {
    "collapsed": false
   }
  },
  {
   "cell_type": "markdown",
   "source": [
    "Users that remained on the platform, on average, are listening to more songs."
   ],
   "metadata": {
    "collapsed": false
   }
  },
  {
   "cell_type": "markdown",
   "source": [
    "#### Distribution of the Average Number of Artists Listened by Every User"
   ],
   "metadata": {
    "collapsed": false
   }
  },
  {
   "cell_type": "code",
   "execution_count": 32,
   "outputs": [
    {
     "data": {
      "text/plain": "<Figure size 1000x600 with 1 Axes>",
      "image/png": "[encoded data removed]"
     },
     "metadata": {},
     "output_type": "display_data"
    }
   ],
   "source": [
    "listened_artists_distribution = eda_df \\\n",
    "    .select([\"artist\", \"userId\", \"churn\"]) \\\n",
    "    .where(F.col(\"artist\") != \"unknown\") \\\n",
    "    .distinct() \\\n",
    "    .groupby([\"churn\", \"userId\"]) \\\n",
    "    .count() \\\n",
    "    .groupby(\"churn\") \\\n",
    "    .agg(F.avg(\"count\").alias(\"Average Listened Artists\")) \\\n",
    "    .toPandas()\n",
    "fig, ax = plt.subplots(1, 1, figsize=(10, 6))\n",
    "sns.barplot(data=listened_artists_distribution, x=\"churn\", y=\"Average Listened Artists\", errorbar=(\"pi\", 50), capsize=.4, errcolor=\".5\", linewidth=3, edgecolor=\".5\", ax=ax)\n",
    "ax.set_title(\"Average Listened Artists\", fontsize=20)\n",
    "ax.set_xlabel(\"0 = No churn users; 1 = Churn users\", fontsize=14)\n",
    "ax.set_ylabel(\"Number of listened artists\", fontsize=14)\n",
    "fig.savefig(\"images/listened_artists_distribution.jpg\");"
   ],
   "metadata": {
    "collapsed": false
   }
  },
  {
   "cell_type": "markdown",
   "source": [
    "#### Average Seconds of Listened Music"
   ],
   "metadata": {
    "collapsed": false
   }
  },
  {
   "cell_type": "code",
   "execution_count": 33,
   "outputs": [
    {
     "data": {
      "text/plain": "<Figure size 1000x600 with 1 Axes>",
      "image/png": "[encoded data removed]"
     },
     "metadata": {},
     "output_type": "display_data"
    }
   ],
   "source": [
    "average_listened_seconds_distribution = eda_df \\\n",
    "    .select([\"artist\", \"userId\", \"churn\", \"length\"]) \\\n",
    "    .where(F.col(\"artist\") != \"unknown\") \\\n",
    "    .groupby([\"churn\", \"userId\"]) \\\n",
    "    .agg(F.avg(F.col(\"length\")).alias(\"averageLength\")) \\\n",
    "    .groupby(\"churn\") \\\n",
    "    .agg(F.avg(F.col(\"averageLength\")).alias(\"Average Seconds of Listened Music\")) \\\n",
    "    .toPandas()\n",
    "fig, ax = plt.subplots(1, 1, figsize=(10, 6))\n",
    "sns.barplot(data=average_listened_seconds_distribution, x=\"churn\", y=\"Average Seconds of Listened Music\", errorbar=(\"pi\", 50), capsize=.4, errcolor=\".5\", linewidth=3, edgecolor=\".5\", ax=ax)\n",
    "ax.set_title(\"Average Seconds of Listened Music\", fontsize=20)\n",
    "ax.set_xlabel(\"0 = No churn users; 1 = Churn users\", fontsize=14)\n",
    "ax.set_ylabel(\"Listened seconds of music\", fontsize=14)\n",
    "fig.savefig(\"images/average_listened_seconds_distribution.jpg\");"
   ],
   "metadata": {
    "collapsed": false
   }
  },
  {
   "cell_type": "markdown",
   "source": [
    "The average seconds of listened music is similar for both churn and no-churn groups. Therefore, this feature won't have much predictive power."
   ],
   "metadata": {
    "collapsed": false
   }
  },
  {
   "cell_type": "markdown",
   "metadata": {},
   "source": [
    "# Feature Engineering"
   ]
  },
  {
   "cell_type": "markdown",
   "source": [
    "#### Aggregate Data at the User Level\n",
    "The churn classification will be performed at the user level. Therefore, we need to aggregate the data for every user. All the features will be a result of this aggregation."
   ],
   "metadata": {
    "collapsed": false
   }
  },
  {
   "cell_type": "code",
   "execution_count": 34,
   "outputs": [],
   "source": [
    "def count_with_condition(condition):\n",
    "    \"\"\"Utility function to count only specific rows based on the 'condition'.\"\"\"\n",
    "    return F.count(F.when(condition, True))\n",
    "\n",
    "\n",
    "def count_distinct_with_condition(condition, values):\n",
    "    \"\"\"Utility function to count only distinct & specific rows based on the 'condition'.\"\"\"\n",
    "    return F.count_distinct(F.when(condition, values))"
   ],
   "metadata": {
    "collapsed": false
   }
  },
  {
   "cell_type": "code",
   "execution_count": 35,
   "outputs": [],
   "source": [
    "marked_df = labeled_df.withColumn(\"listeningToMusic\", F.when(F.col(\"page\") == \"NextSong\", 1).otherwise(0))"
   ],
   "metadata": {
    "collapsed": false
   }
  },
  {
   "cell_type": "code",
   "execution_count": 36,
   "outputs": [
    {
     "name": "stdout",
     "output_type": "stream",
     "text": [
      "+------+---------------+-------------+---------------+-----+\n",
      "|userId|numPagesVisited|numTotalPlays|numTotalArtists|churn|\n",
      "+------+---------------+-------------+---------------+-----+\n",
      "|100010|            381|          275|            252|    0|\n",
      "|100014|            310|          257|            233|    1|\n",
      "|100021|            319|          230|            207|    1|\n",
      "|   101|           2149|         1797|           1241|    1|\n",
      "|    11|            848|          647|            534|    0|\n",
      "|   112|            292|          215|            195|    0|\n",
      "|   113|           1895|         1585|           1111|    0|\n",
      "|   124|           4825|         4079|           2232|    0|\n",
      "|   125|             11|            8|              8|    1|\n",
      "|   132|           2304|         1928|           1299|    0|\n",
      "|   133|             44|           32|             32|    0|\n",
      "|   138|           2469|         2070|           1332|    0|\n",
      "|   139|            457|          377|            334|    0|\n",
      "|   146|            837|          650|            541|    0|\n",
      "|    15|           2278|         1914|           1302|    0|\n",
      "|   154|            118|           84|             78|    0|\n",
      "|   155|           1002|          820|            643|    0|\n",
      "|200002|            474|          387|            339|    0|\n",
      "|200010|            317|          237|            214|    0|\n",
      "|    29|           3603|         3028|           1804|    1|\n",
      "+------+---------------+-------------+---------------+-----+\n",
      "only showing top 20 rows\n",
      "\n"
     ]
    }
   ],
   "source": [
    "aggregated_df = labeled_df.groupby(\"userId\").agg(\n",
    "    F.count(\"page\").alias(\"numPagesVisited\"),\n",
    "    count_with_condition(F.col(\"page\") == \"NextSong\").alias(\"numTotalPlays\"),\n",
    "    count_distinct_with_condition(F.col(\"artist\") != \"unknown\", F.col(\"artist\")).alias(\"numTotalArtists\"),\n",
    "    F.max(\"churn\").alias(\"churn\")\n",
    ")\n",
    "aggregated_df.show()"
   ],
   "metadata": {
    "collapsed": false
   }
  },
  {
   "cell_type": "markdown",
   "source": [
    "#### Create the Feature Vector and Labels"
   ],
   "metadata": {
    "collapsed": false
   }
  },
  {
   "cell_type": "code",
   "execution_count": 37,
   "metadata": {},
   "outputs": [
    {
     "name": "stdout",
     "output_type": "stream",
     "text": [
      "+--------------------+-----+\n",
      "|   unscaled_features|label|\n",
      "+--------------------+-----+\n",
      "| [381.0,275.0,252.0]|    0|\n",
      "| [310.0,257.0,233.0]|    1|\n",
      "| [319.0,230.0,207.0]|    1|\n",
      "|[2149.0,1797.0,12...|    1|\n",
      "| [848.0,647.0,534.0]|    0|\n",
      "| [292.0,215.0,195.0]|    0|\n",
      "|[1895.0,1585.0,11...|    0|\n",
      "|[4825.0,4079.0,22...|    0|\n",
      "|      [11.0,8.0,8.0]|    1|\n",
      "|[2304.0,1928.0,12...|    0|\n",
      "|    [44.0,32.0,32.0]|    0|\n",
      "|[2469.0,2070.0,13...|    0|\n",
      "| [457.0,377.0,334.0]|    0|\n",
      "| [837.0,650.0,541.0]|    0|\n",
      "|[2278.0,1914.0,13...|    0|\n",
      "|   [118.0,84.0,78.0]|    0|\n",
      "|[1002.0,820.0,643.0]|    0|\n",
      "| [474.0,387.0,339.0]|    0|\n",
      "| [317.0,237.0,214.0]|    0|\n",
      "|[3603.0,3028.0,18...|    1|\n",
      "+--------------------+-----+\n",
      "only showing top 20 rows\n",
      "\n"
     ]
    }
   ],
   "source": [
    "assembler = VectorAssembler(inputCols=[\"numPagesVisited\", \"numTotalPlays\", \"numTotalArtists\"], outputCol=\"unscaled_features\")\n",
    "engineered_df = assembler.transform(aggregated_df)\n",
    "engineered_df = engineered_df.select(F.col(\"unscaled_features\"), F.col(\"churn\").alias(\"label\"))\n",
    "engineered_df.show()"
   ]
  },
  {
   "cell_type": "markdown",
   "metadata": {},
   "source": [
    "# Modeling\n",
    "We will use the `F1 score` to test the models because we will use a classifier and the data labels are skewed towards the `no churn` users. A `churn` event is considered rarer. By using `F1 score` we consider the `precision` and `recall` of the model which take into consideration the unbalanced distribution issue."
   ]
  },
  {
   "cell_type": "code",
   "execution_count": 38,
   "outputs": [],
   "source": [
    "def run(pipeline, paramGrid, train_df, test_df):\n",
    "    \"\"\"\n",
    "    Main function used to train & test a given model.\n",
    "    The training step uses cross-validation to find the best hyper-parameters for the model.\n",
    "\n",
    "    :param pipeline: Model pipeline.\n",
    "    :param paramGrid: Parameter grid used for cross-validation.\n",
    "    :param train_df: Training dataframe.\n",
    "    :param test_df: Testing dataframe.\n",
    "    :return: the best model from cross-validation.\n",
    "    \"\"\"\n",
    "\n",
    "    fitted_model = fit_model(paramGrid, pipeline, train_df)\n",
    "    evaluate_model(fitted_model, test_df)\n",
    "\n",
    "    return fitted_model\n",
    "\n",
    "\n",
    "def fit_model(paramGrid, pipeline, train_df):\n",
    "    \"\"\"\n",
    "    Function that trains the model using cross-validation.\n",
    "    Also, it prints the best validation results and hyper-parameters.\n",
    "\n",
    "    :param paramGrid: Parameter grid used for cross-validation.\n",
    "    :param pipeline: Model pipeline.\n",
    "    :param train_df: Training dataframe.\n",
    "    :return: the best model from cross-validation.\n",
    "    \"\"\"\n",
    "\n",
    "    crossval = CrossValidator(\n",
    "        estimator=pipeline,\n",
    "        estimatorParamMaps=paramGrid,\n",
    "        evaluator=MulticlassClassificationEvaluator(metricName=\"f1\", beta=1.0),\n",
    "        parallelism=3,\n",
    "        numFolds=3\n",
    "    )\n",
    "\n",
    "    fitted_model = crossval.fit(train_df)\n",
    "    print_best_validation_score(fitted_model)\n",
    "    print_best_parameters(fitted_model)\n",
    "\n",
    "    return fitted_model\n",
    "\n",
    "\n",
    "def create_pipeline(model):\n",
    "    \"\"\"\n",
    "    Create a pipeline based on a model.\n",
    "\n",
    "    :param model: The end model that will be used for training.\n",
    "    :return: the built pipeline.\n",
    "    \"\"\"\n",
    "\n",
    "    scaler = StandardScaler(inputCol=\"unscaled_features\", outputCol=\"features\")\n",
    "    pipeline = Pipeline(stages=[scaler, model])\n",
    "\n",
    "    return pipeline\n",
    "\n",
    "\n",
    "def print_best_validation_score(cross_validation_model):\n",
    "    \"\"\"Prints the best validation score based on the results from the cross-validation model.\"\"\"\n",
    "    print()\n",
    "    print(\"-\" * 60)\n",
    "    print(f\"F1 score, on the validation split, for the best model: {np.max(cross_validation_model.avgMetrics) * 100:.2f}%\")\n",
    "    print(\"-\" * 60)\n",
    "\n",
    "\n",
    "def print_best_parameters(cross_validation_model):\n",
    "    \"\"\"Prints the best hyper-parameters based on the results from the cross-validation model.\"\"\"\n",
    "\n",
    "    parameters = cross_validation_model.getEstimatorParamMaps()[np.argmax(cross_validation_model.avgMetrics)]\n",
    "\n",
    "    print()\n",
    "    print(\"-\" * 60)\n",
    "    print(\"Best model hyper-parameters:\")\n",
    "    for param, value in parameters.items():\n",
    "        print(f\"{param}: {value}\")\n",
    "    print(\"-\" * 60)\n",
    "\n",
    "\n",
    "def evaluate_model(model, test_df):\n",
    "    \"\"\"Evaluate the model on the test set using F1 score and print the results.\"\"\"\n",
    "\n",
    "    predictions = model.transform(test_df)\n",
    "    evaluator =  MulticlassClassificationEvaluator(metricName=\"f1\", beta=1.0)\n",
    "    metric = evaluator.evaluate(predictions)\n",
    "\n",
    "    print()\n",
    "    print(\"-\" * 60)\n",
    "    print(f\"F1 score, on the test set is: {metric*100:.2f}%\")\n",
    "    print(\"-\" * 60)\n",
    "\n",
    "    return metric"
   ],
   "metadata": {
    "collapsed": false
   }
  },
  {
   "cell_type": "markdown",
   "source": [
    "## Split the Data"
   ],
   "metadata": {
    "collapsed": false
   }
  },
  {
   "cell_type": "code",
   "execution_count": 39,
   "outputs": [],
   "source": [
    "train_df, test_df = engineered_df.randomSplit([0.8, 0.2], seed=42)"
   ],
   "metadata": {
    "collapsed": false
   }
  },
  {
   "cell_type": "markdown",
   "source": [
    "## Logistic Regression"
   ],
   "metadata": {
    "collapsed": false
   }
  },
  {
   "cell_type": "code",
   "execution_count": 40,
   "metadata": {},
   "outputs": [],
   "source": [
    "lr = LogisticRegression()\n",
    "pipeline = create_pipeline(lr)\n",
    "\n",
    "paramGrid = ParamGridBuilder() \\\n",
    "    .addGrid(lr.maxIter, [10, 25, 50])  \\\n",
    "    .addGrid(lr.regParam, [0.05, 0.1, 0.2]) \\\n",
    "    .addGrid(lr.elasticNetParam, [0.05, 0.1, 0.2]) \\\n",
    "    .build()"
   ]
  },
  {
   "cell_type": "code",
   "execution_count": 41,
   "outputs": [
    {
     "name": "stderr",
     "output_type": "stream",
     "text": [
      "22/09/17 12:42:05 WARN BlockManager: Asked to remove block broadcast_2359_piece0, which does not exist\n",
      "22/09/17 12:42:05 WARN BlockManager: Asked to remove block broadcast_2359, which does not exist\n",
      "22/09/17 12:42:20 WARN BlockManager: Asked to remove block broadcast_2768, which does not exist\n"
     ]
    },
    {
     "name": "stdout",
     "output_type": "stream",
     "text": [
      "\n",
      "------------------------------------------------------------\n",
      "F1 score, on the validation split, for the best model: 67.23%\n",
      "------------------------------------------------------------\n",
      "\n",
      "------------------------------------------------------------\n",
      "Best model hyper-parameters:\n",
      "LogisticRegression_4b85696287ce__maxIter: 10\n",
      "LogisticRegression_4b85696287ce__regParam: 0.05\n",
      "LogisticRegression_4b85696287ce__elasticNetParam: 0.05\n",
      "------------------------------------------------------------\n",
      "\n",
      "------------------------------------------------------------\n",
      "F1 score, on the test set is: 62.94%\n",
      "------------------------------------------------------------\n"
     ]
    },
    {
     "data": {
      "text/plain": "CrossValidatorModel_c334bff8f198"
     },
     "execution_count": 41,
     "metadata": {},
     "output_type": "execute_result"
    }
   ],
   "source": [
    "run(pipeline, paramGrid, train_df.alias(\"train_df_lr\"), test_df.alias(\"test_df_lr\"))"
   ],
   "metadata": {
    "collapsed": false
   }
  },
  {
   "cell_type": "markdown",
   "source": [
    "## Naive Bayes"
   ],
   "metadata": {
    "collapsed": false
   }
  },
  {
   "cell_type": "code",
   "execution_count": 42,
   "outputs": [],
   "source": [
    "nb = NaiveBayes()\n",
    "pipeline = create_pipeline(nb)\n",
    "\n",
    "paramGrid = ParamGridBuilder() \\\n",
    "    .addGrid(nb.smoothing, [0.5, 1, 2])  \\\n",
    "    .build()"
   ],
   "metadata": {
    "collapsed": false
   }
  },
  {
   "cell_type": "code",
   "execution_count": 43,
   "outputs": [
    {
     "name": "stderr",
     "output_type": "stream",
     "text": [
      "                                                                                \r"
     ]
    },
    {
     "name": "stdout",
     "output_type": "stream",
     "text": [
      "\n",
      "------------------------------------------------------------\n",
      "F1 score, on the validation split, for the best model: 67.23%\n",
      "------------------------------------------------------------\n",
      "\n",
      "------------------------------------------------------------\n",
      "Best model hyper-parameters:\n",
      "NaiveBayes_c1954012a786__smoothing: 0.5\n",
      "------------------------------------------------------------\n",
      "\n",
      "------------------------------------------------------------\n",
      "F1 score, on the test set is: 62.94%\n",
      "------------------------------------------------------------\n"
     ]
    },
    {
     "data": {
      "text/plain": "CrossValidatorModel_e10ab7ac7c43"
     },
     "execution_count": 43,
     "metadata": {},
     "output_type": "execute_result"
    }
   ],
   "source": [
    "run(pipeline, paramGrid, train_df.alias(\"train_df_nb\"), test_df.alias(\"test_df_nb\"))"
   ],
   "metadata": {
    "collapsed": false
   }
  },
  {
   "cell_type": "markdown",
   "source": [
    "## Gradient Boosting"
   ],
   "metadata": {
    "collapsed": false
   }
  },
  {
   "cell_type": "code",
   "execution_count": 44,
   "outputs": [],
   "source": [
    "gbt = GBTClassifier()\n",
    "pipeline = create_pipeline(gbt)\n",
    "\n",
    "paramGrid = ParamGridBuilder() \\\n",
    "    .addGrid(gbt.maxIter, [10, 20, 30]) \\\n",
    "    .addGrid(gbt.stepSize, [0.05, 0.1]) \\\n",
    "    .build()"
   ],
   "metadata": {
    "collapsed": false
   }
  },
  {
   "cell_type": "code",
   "execution_count": 45,
   "outputs": [
    {
     "name": "stderr",
     "output_type": "stream",
     "text": [
      "                                                                                \r]22/09/17 12:46:38 WARN BlockManager: Asked to remove block broadcast_9029_piece0, which does not exist\n",
      "22/09/17 12:46:38 WARN BlockManager: Asked to remove block broadcast_9029, which does not exist\n",
      "22/09/17 12:46:45 WARN BlockManager: Asked to remove block broadcast_9179, which does not exist\n"
     ]
    },
    {
     "name": "stdout",
     "output_type": "stream",
     "text": [
      "\n",
      "------------------------------------------------------------\n",
      "F1 score, on the validation split, for the best model: 70.01%\n",
      "------------------------------------------------------------\n",
      "\n",
      "------------------------------------------------------------\n",
      "Best model hyper-parameters:\n",
      "GBTClassifier_462f82cefa7d__maxIter: 10\n",
      "GBTClassifier_462f82cefa7d__stepSize: 0.1\n",
      "------------------------------------------------------------\n",
      "\n",
      "------------------------------------------------------------\n",
      "F1 score, on the test set is: 64.92%\n",
      "------------------------------------------------------------\n"
     ]
    },
    {
     "data": {
      "text/plain": "CrossValidatorModel_4b961a1b29ca"
     },
     "execution_count": 45,
     "metadata": {},
     "output_type": "execute_result"
    }
   ],
   "source": [
    "run(pipeline, paramGrid, train_df.alias(\"train_df_gbt\"), test_df.alias(\"test_df_gbt\"))"
   ],
   "metadata": {
    "collapsed": false
   }
  },
  {
   "cell_type": "markdown",
   "metadata": {},
   "source": [
    "# Conclusion\n",
    "\n",
    "After the cleaning & feature engineering steps we trained three models:\n",
    "* Logistic Regression\n",
    "* Naive Bayes\n",
    "* Gradient Boosting\n",
    "\n",
    "The `GBT` model performed slightly better than the Logistic Regression and the Naive Bayes. Probably, due to the fact that is a more complex model that can understand non-linear relationships better. It has a `F1 score` of `64.92%` which is not great, not terrible. For sure, we could do better, but it is a good start to see that the model is able to pick up some patterns within the data.\n",
    "\n",
    "To further improve the model we can do the following:\n",
    "* add more features\n",
    "* solve the label imbalance\n",
    "* use the `Downgrade` event to generate more `churn` labels"
   ]
  }
 ],
 "metadata": {
  "kernelspec": {
   "display_name": "Python 3",
   "language": "python",
   "name": "python3"
  },
  "language_info": {
   "codemirror_mode": {
    "name": "ipython",
    "version": 3
   },
   "file_extension": ".py",
   "mimetype": "text/x-python",
   "name": "python",
   "nbconvert_exporter": "python",
   "pygments_lexer": "ipython3",
   "version": "3.6.3"
  }
 },
 "nbformat": 4,
 "nbformat_minor": 2
}
